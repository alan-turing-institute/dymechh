{
 "cells": [
  {
   "cell_type": "code",
   "execution_count": 1,
   "metadata": {},
   "outputs": [
    {
     "name": "stdout",
     "output_type": "stream",
     "text": [
      "../data/raw/UKCP2.2/tasmax/01/latest/01/latest/tasmax_rcp85_land-cpm_uk_2.2km_01_day_19821201-19831130.nc\n",
      "../data/raw/UKCP2.2/tasmax/01/latest/01/latest/tasmax_rcp85_land-cpm_uk_2.2km_01_day_19811201-19821130.nc\n",
      "../data/raw/UKCP2.2/tasmax/01/latest/01/latest/tasmax_rcp85_land-cpm_uk_2.2km_01_day_19801201-19811130.nc\n"
     ]
    }
   ],
   "source": [
    "from glob import glob \n",
    "import numpy as np \n",
    "import xarray as xr\n",
    "import rioxarray\n",
    "\n",
    "# find all nc files\n",
    "files = glob(\"../data/raw/**/*.nc\",recursive=True)\n",
    "\n",
    "for f in files:\n",
    "    print(f)"
   ]
  },
  {
   "cell_type": "code",
   "execution_count": 2,
   "metadata": {},
   "outputs": [],
   "source": [
    "f0 = files[0]"
   ]
  },
  {
   "cell_type": "markdown",
   "metadata": {},
   "source": [
    "## Test time requirement"
   ]
  },
  {
   "cell_type": "code",
   "execution_count": 3,
   "metadata": {},
   "outputs": [],
   "source": [
    "#%timeit ncfile = xr.open_dataset(f0)"
   ]
  },
  {
   "cell_type": "markdown",
   "metadata": {},
   "source": [
    "## Conversion"
   ]
  },
  {
   "cell_type": "code",
   "execution_count": 29,
   "metadata": {},
   "outputs": [],
   "source": [
    "# Don't need the extra dims - AFAIK\n",
    "ncfile = xr.open_dataset(f0).drop_dims([\"bnds\"]).squeeze()\n",
    "v = ncfile['tasmax']\n",
    "del v.attrs['grid_mapping'] # need to drop this too in order to size properly"
   ]
  },
  {
   "cell_type": "code",
   "execution_count": 20,
   "metadata": {},
   "outputs": [],
   "source": [
    "#Define lat/long \n",
    "v = v.rio.set_spatial_dims('grid_longitude', 'grid_latitude')\n",
    "\n",
    "# #(Optional) If your CRS is not discovered, you should be able to add it like so:\n",
    "v = v.rio.write_crs(\"epsg:27700\", inplace=True)\n"
   ]
  },
  {
   "cell_type": "code",
   "execution_count": 28,
   "metadata": {},
   "outputs": [],
   "source": [
    "#Saving the file\n",
    "v.rio.to_raster(f0.replace(\".nc\",\"geotiff.tiff\"))"
   ]
  }
 ],
 "metadata": {
  "kernelspec": {
   "display_name": "Python 3.10.6 ('playground')",
   "language": "python",
   "name": "python3"
  },
  "language_info": {
   "codemirror_mode": {
    "name": "ipython",
    "version": 3
   },
   "file_extension": ".py",
   "mimetype": "text/x-python",
   "name": "python",
   "nbconvert_exporter": "python",
   "pygments_lexer": "ipython3",
   "version": "3.10.6"
  },
  "orig_nbformat": 4,
  "vscode": {
   "interpreter": {
    "hash": "bfb6be6a1e2928ff2d2ab7904db3c9037c4b5ca4f399bd5e7064365a54a3f091"
   }
  }
 },
 "nbformat": 4,
 "nbformat_minor": 2
}
